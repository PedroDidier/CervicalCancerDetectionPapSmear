{
 "cells": [
  {
   "cell_type": "code",
   "execution_count": null,
   "metadata": {},
   "outputs": [],
   "source": [
    "import matplotlib.pyplot as plt\n",
    "\n",
    "# Redefining the data for training, validation, and test sets\n",
    "train_counts = {\n",
    "}\n",
    "\n",
    "valid_counts = {\n",
    "}\n",
    "\n",
    "test_counts = {\n",
    "    \n",
    "}\n",
    "\n",
    "# Combine training, validation, and test counts\n",
    "# total_counts = {}\n",
    "# for key in train_counts.keys():\n",
    "#     total_counts[key] = train_counts[key] + valid_counts[key] + test_counts[key]\n",
    "\n",
    "# Redrawing the plot with counts displayed above the bars\n",
    "plt.figure(figsize=(12, 8))\n",
    "bars = plt.bar(valid_counts.keys(), valid_counts.values(), color='orangered')\n",
    "\n",
    "# Adding the count above each bar\n",
    "for bar in bars:\n",
    "    yval = bar.get_height()\n",
    "    plt.text(bar.get_x() + bar.get_width() / 2, yval, int(yval), va='bottom', ha='center')\n",
    "\n",
    "plt.xlabel('Class')\n",
    "plt.ylabel('Number of Crops')\n",
    "plt.title('Overall Distribution of Classes across the Validation Dataset')\n",
    "plt.xticks(rotation=45)\n",
    "plt.show()"
   ]
  }
 ],
 "metadata": {
  "kernelspec": {
   "display_name": "Python 3",
   "language": "python",
   "name": "python3"
  },
  "language_info": {
   "codemirror_mode": {
    "name": "ipython",
    "version": 3
   },
   "file_extension": ".py",
   "mimetype": "text/x-python",
   "name": "python",
   "nbconvert_exporter": "python",
   "pygments_lexer": "ipython3",
   "version": "3.9.13"
  }
 },
 "nbformat": 4,
 "nbformat_minor": 2
}
