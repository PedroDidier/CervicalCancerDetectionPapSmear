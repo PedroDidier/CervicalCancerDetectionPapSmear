{
 "cells": [
  {
   "cell_type": "code",
   "execution_count": 2,
   "metadata": {},
   "outputs": [],
   "source": [
    "import xml.etree.ElementTree as ET\n",
    "import os\n",
    "\n",
    "def convert_directory_xml_to_yolo(directory, classes_dict):\n",
    "    \"\"\"\n",
    "    Convert all XML files in a directory to YOLO format .txt files.\n",
    "\n",
    "    Args:\n",
    "    - directory (str): Path to the directory containing XML files.\n",
    "    - classes_dict (dict): A dictionary mapping class names to class IDs.\n",
    "    \"\"\"\n",
    "\n",
    "    for filename in os.listdir(directory):\n",
    "        if filename.endswith('.xml'):\n",
    "            xml_file_path = os.path.join(directory, filename)\n",
    "            tree = ET.parse(xml_file_path)\n",
    "            root = tree.getroot()\n",
    "\n",
    "            size = root.find('size')\n",
    "            width = int(size.find('width').text)\n",
    "            height = int(size.find('height').text)\n",
    "\n",
    "            yolo_data = []\n",
    "\n",
    "            for member in root.findall('object'):\n",
    "                class_name = member.find('name').text\n",
    "                if class_name in classes_dict:\n",
    "                    class_id = classes_dict[class_name]\n",
    "                else:\n",
    "                    continue\n",
    "\n",
    "                bndbox = member.find('bndbox')\n",
    "                xmin = int(bndbox.find('xmin').text)\n",
    "                ymin = int(bndbox.find('ymin').text)\n",
    "                xmax = int(bndbox.find('xmax').text)\n",
    "                ymax = int(bndbox.find('ymax').text)\n",
    "\n",
    "                x_center = round(((xmin + xmax) / 2) / width, 3)\n",
    "                y_center = round(((ymin + ymax) / 2) / height, 3)\n",
    "                obj_width = round((xmax - xmin) / width, 3)\n",
    "                obj_height = round((ymax - ymin) / height, 3)\n",
    "\n",
    "\n",
    "                yolo_data.append(f\"{class_id} {x_center} {y_center} {obj_width} {obj_height}\")\n",
    "\n",
    "            output_file_path = os.path.join(directory, filename.replace('.xml', '.txt'))\n",
    "            with open(output_file_path, 'w') as file:\n",
    "                file.write('\\n'.join(yolo_data))\n",
    "\n",
    "# Usage example\n",
    "classes_dict = {\n",
    "    \"Anomaly\": 0\n",
    "}\n",
    "\n",
    "for split in ['train', 'valid']:\n",
    "    directory = f'./detection_single/labels/{split}'\n",
    "    convert_directory_xml_to_yolo(directory, classes_dict)"
   ]
  },
  {
   "cell_type": "code",
   "execution_count": 3,
   "metadata": {},
   "outputs": [],
   "source": [
    "import os\n",
    "import shutil"
   ]
  },
  {
   "cell_type": "code",
   "execution_count": 4,
   "metadata": {},
   "outputs": [],
   "source": [
    "def move_xml_files(source_dir, target_dir):\n",
    "    \"\"\"\n",
    "    Move all .xml files from source_dir to target_dir.\n",
    "\n",
    "    Args:\n",
    "    source_dir (str): The directory to move files from.\n",
    "    target_dir (str): The directory to move files to.\n",
    "\n",
    "    Returns:\n",
    "    None\n",
    "    \"\"\"\n",
    "    # Check if the target directory exists, if not create it\n",
    "    if not os.path.exists(target_dir):\n",
    "        os.makedirs(target_dir)\n",
    "\n",
    "    # Move each .xml file from source to target directory\n",
    "    for file_name in os.listdir(source_dir):\n",
    "        if file_name.endswith('.xml'):\n",
    "            shutil.move(os.path.join(source_dir, file_name), target_dir)"
   ]
  },
  {
   "cell_type": "code",
   "execution_count": 6,
   "metadata": {},
   "outputs": [],
   "source": [
    "move_xml_files(\"./detection_single/labels/valid\", \"./detection_single/labels_xml/valid\")"
   ]
  },
  {
   "cell_type": "code",
   "execution_count": 8,
   "metadata": {},
   "outputs": [],
   "source": [
    "for k in range(1, 6):\n",
    "    for split in ['train', 'valid']:\n",
    "        directory = f'./detection_multi_folds/Kfold{k}/labels/{split}'\n",
    "        target_dir = f'./detection_multi_folds/Kfold{k}/labels_xml/{split}'\n",
    "        move_xml_files(directory, target_dir)"
   ]
  },
  {
   "cell_type": "code",
   "execution_count": null,
   "metadata": {},
   "outputs": [],
   "source": []
  }
 ],
 "metadata": {
  "kernelspec": {
   "display_name": "Python 3",
   "language": "python",
   "name": "python3"
  },
  "language_info": {
   "codemirror_mode": {
    "name": "ipython",
    "version": 3
   },
   "file_extension": ".py",
   "mimetype": "text/x-python",
   "name": "python",
   "nbconvert_exporter": "python",
   "pygments_lexer": "ipython3",
   "version": "3.9.13"
  }
 },
 "nbformat": 4,
 "nbformat_minor": 2
}
